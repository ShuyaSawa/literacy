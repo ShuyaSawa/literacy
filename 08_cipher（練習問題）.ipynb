{
  "nbformat": 4,
  "nbformat_minor": 0,
  "metadata": {
    "colab": {
      "provenance": [],
      "include_colab_link": true
    },
    "kernelspec": {
      "name": "python3",
      "display_name": "Python 3"
    },
    "language_info": {
      "name": "python"
    }
  },
  "cells": [
    {
      "cell_type": "markdown",
      "metadata": {
        "id": "view-in-github",
        "colab_type": "text"
      },
      "source": [
        "<a href=\"https://colab.research.google.com/github/ShuyaSawa/literacy/blob/main/08_cipher%EF%BC%88%E7%B7%B4%E7%BF%92%E5%95%8F%E9%A1%8C%EF%BC%89.ipynb\" target=\"_parent\"><img src=\"https://colab.research.google.com/assets/colab-badge.svg\" alt=\"Open In Colab\"/></a>"
      ]
    },
    {
      "cell_type": "markdown",
      "source": [
        "### 実習1：暗号\n",
        "\n",
        "教員だけが読めるように暗号化したファイルを作り，公開する．公開しても大丈夫なのは，教員だけが読めるように暗号化するから．\n",
        "\n",
        "学生番号をファイルreportに書き込む．学生番号が123456の場合の例を示す．**番号を書き換えてから実行すること．**"
      ],
      "metadata": {
        "id": "5zzVkIgA8a2K"
      }
    },
    {
      "cell_type": "code",
      "source": [
        "!echo 24G3068 > report\n",
        "!cat report #確認"
      ],
      "metadata": {
        "id": "U7tA_e0E8KUq",
        "colab": {
          "base_uri": "https://localhost:8080/"
        },
        "outputId": "306c9742-5418-4609-b4fb-b5ae76db9524"
      },
      "execution_count": 72,
      "outputs": [
        {
          "output_type": "stream",
          "name": "stdout",
          "text": [
            "24G3068\n"
          ]
        }
      ]
    },
    {
      "cell_type": "code",
      "source": [
        "#教員の公開鍵（yabuki-public.pem）を取得する．\n",
        "!wget --quiet https://raw.githubusercontent.com/ybktr/literacy/main/yabuki-public.pem"
      ],
      "metadata": {
        "id": "6QkRraX-AB6C"
      },
      "execution_count": 73,
      "outputs": []
    },
    {
      "cell_type": "markdown",
      "source": [
        "教員の公開鍵を使って，reportを暗号化し，ファイルreport-secretを作る．"
      ],
      "metadata": {
        "id": "oGy3H5gF89zh"
      }
    },
    {
      "source": [
        "!openssl pkeyutl -encrypt -pubin -inkey yabuki-public.pem -in report -out report-secret\n",
        "!cat report-secret #確認"
      ],
      "cell_type": "code",
      "metadata": {
        "colab": {
          "base_uri": "https://localhost:8080/"
        },
        "id": "GsXAYLLvh9_w",
        "outputId": "4bda11c9-d142-4e29-c2c0-758c3b361d4f"
      },
      "execution_count": 80,
      "outputs": [
        {
          "output_type": "stream",
          "name": "stdout",
          "text": [
            "W]U�h!\bQ�Mx��:\u0018�C�\u001a���D��\u001c�[�vނ�\u001a\u0013w�0l��\f\u0000se<N\\\r��\u0019��T<�#Y\b&���P\u0005\r2��\u0017��49�t���O�P�Ų\u000e�\u0002�\u001cF�x�UP)Q\u001b�H8����4�(\u000ec2���kI���n�uݯ��"
          ]
        }
      ]
    },
    {
      "cell_type": "markdown",
      "source": [
        "ファイルreport-secretをGitHubで公開し，そのURLを報告する．（まずreport-secretを自分のPCにダウンロードしてから，GitHubにpushするといい．）\n",
        "\n",
        "URLの形式: https://ユーザ名.github.io/literacy/report-secret"
      ],
      "metadata": {
        "id": "2hpfnZ9M9vPZ"
      }
    },
    {
      "cell_type": "markdown",
      "source": [
        "### 実習2：デジタル署名\n",
        "\n",
        "デジタル署名と3個のメッセージを取得する．"
      ],
      "metadata": {
        "id": "3QE8XO5W7tqh"
      }
    },
    {
      "cell_type": "code",
      "source": [
        "!rm -f message*\n",
        "!wget --quiet https://raw.githubusercontent.com/ybktr/literacy/main/message-signature\n",
        "!wget --quiet https://raw.githubusercontent.com/ybktr/literacy/main/message1\n",
        "!wget --quiet https://raw.githubusercontent.com/ybktr/literacy/main/message2\n",
        "!wget --quiet https://raw.githubusercontent.com/ybktr/literacy/main/message3"
      ],
      "metadata": {
        "id": "DD8VHOMH7ZQg"
      },
      "execution_count": 81,
      "outputs": []
    },
    {
      "cell_type": "markdown",
      "source": [
        "3個のメッセージのうちで，矢吹が書いたものだと確認できるのはどれか．"
      ],
      "metadata": {
        "id": "25IXIyGrorvr"
      }
    },
    {
      "cell_type": "code",
      "source": [
        "!openssl pkeyutl -verify -pubin -inkey yabuki-public.pem -in message1 -sigfile message-signature\n",
        "!openssl pkeyutl -verify -pubin -inkey yabuki-public.pem -in message2 -sigfile message-signature\n",
        "!openssl pkeyutl -verify -pubin -inkey yabuki-public.pem -in message3 -sigfile message-signature\n",
        "#ここにコードを書いて実行する．"
      ],
      "metadata": {
        "id": "ms5RNNMaBQPa",
        "colab": {
          "base_uri": "https://localhost:8080/"
        },
        "outputId": "d0c68d41-224c-486e-a3c0-98cc85d7d28b"
      },
      "execution_count": 85,
      "outputs": [
        {
          "output_type": "stream",
          "name": "stdout",
          "text": [
            "Signature Verified Successfully\n",
            "Signature Verification Failure\n",
            "Signature Verification Failure\n"
          ]
        }
      ]
    }
  ]
}