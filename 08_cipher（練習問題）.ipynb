{
  "nbformat": 4,
  "nbformat_minor": 0,
  "metadata": {
    "colab": {
      "provenance": [],
      "include_colab_link": true
    },
    "kernelspec": {
      "name": "python3",
      "display_name": "Python 3"
    },
    "language_info": {
      "name": "python"
    }
  },
  "cells": [
    {
      "cell_type": "markdown",
      "metadata": {
        "id": "view-in-github",
        "colab_type": "text"
      },
      "source": [
        "<a href=\"https://colab.research.google.com/github/ShuyaSawa/literacy/blob/main/08_cipher%EF%BC%88%E7%B7%B4%E7%BF%92%E5%95%8F%E9%A1%8C%EF%BC%89.ipynb\" target=\"_parent\"><img src=\"https://colab.research.google.com/assets/colab-badge.svg\" alt=\"Open In Colab\"/></a>"
      ]
    },
    {
      "cell_type": "markdown",
      "source": [
        "### 実習1：暗号\n",
        "\n",
        "教員だけが読めるように暗号化したファイルを作り，公開する．公開しても大丈夫なのは，教員だけが読めるように暗号化するから．\n",
        "\n",
        "学生番号をファイルreportに書き込む．学生番号が123456の場合の例を示す．**番号を書き換えてから実行すること．**"
      ],
      "metadata": {
        "id": "5zzVkIgA8a2K"
      }
    },
    {
      "cell_type": "code",
      "source": [
        "!echo 24G3068 > report\n",
        "!cat report #確認"
      ],
      "metadata": {
        "id": "U7tA_e0E8KUq",
        "colab": {
          "base_uri": "https://localhost:8080/"
        },
        "outputId": "7cd8effc-1fd1-4d4f-a014-04e3b1a21ef4"
      },
      "execution_count": 63,
      "outputs": [
        {
          "output_type": "stream",
          "name": "stdout",
          "text": [
            "24G3068\n"
          ]
        }
      ]
    },
    {
      "cell_type": "code",
      "source": [
        "#教員の公開鍵（yabuki-public.pem）を取得する．\n",
        "!wget --quiet https://raw.githubusercontent.com/ybktr/literacy/main/yabuki-public.pem"
      ],
      "metadata": {
        "id": "6QkRraX-AB6C"
      },
      "execution_count": 64,
      "outputs": []
    },
    {
      "cell_type": "markdown",
      "source": [
        "教員の公開鍵を使って，reportを暗号化し，ファイルreport-secretを作る．"
      ],
      "metadata": {
        "id": "oGy3H5gF89zh"
      }
    },
    {
      "source": [
        "!openssl pkeyutl -encrypt -pubin -inkey yabuki-public.pem -in report -out report-secret\n",
        "!cat report-secret #確認\n"
      ],
      "cell_type": "code",
      "metadata": {
        "colab": {
          "base_uri": "https://localhost:8080/"
        },
        "id": "GsXAYLLvh9_w",
        "outputId": "8f664280-7a01-4d98-9158-4a4ce4358962"
      },
      "execution_count": 70,
      "outputs": [
        {
          "output_type": "stream",
          "name": "stdout",
          "text": [
            "j\u0012���k�U�=]3q���J\u0018cD�\t\u0011\u000e\\\u001e�C\u0001�\b`\u0018�&I��\u000bҴ�z� �3��\u0010���\u0010�!��0�ɕ.�q���\u001f,��ߥa�+��S��\"\u000e�e\\U��\u0005[��(�\u00189Z7��C2̈�\u001f�\u0005�v8��\r\u0016W�D"
          ]
        }
      ]
    },
    {
      "cell_type": "markdown",
      "source": [
        "ファイルreport-secretをGitHubで公開し，そのURLを報告する．（まずreport-secretを自分のPCにダウンロードしてから，GitHubにpushするといい．）\n",
        "\n",
        "URLの形式: https://ユーザ名.github.io/literacy/report-secret"
      ],
      "metadata": {
        "id": "2hpfnZ9M9vPZ"
      }
    },
    {
      "cell_type": "markdown",
      "source": [
        "### 実習2：デジタル署名\n",
        "\n",
        "デジタル署名と3個のメッセージを取得する．"
      ],
      "metadata": {
        "id": "3QE8XO5W7tqh"
      }
    },
    {
      "cell_type": "code",
      "source": [
        "!rm -f message*\n",
        "!wget --quiet https://raw.githubusercontent.com/ybktr/literacy/main/message-signature\n",
        "!wget --quiet https://raw.githubusercontent.com/ybktr/literacy/main/message1\n",
        "!wget --quiet https://raw.githubusercontent.com/ybktr/literacy/main/message2\n",
        "!wget --quiet https://raw.githubusercontent.com/ybktr/literacy/main/message3"
      ],
      "metadata": {
        "id": "DD8VHOMH7ZQg"
      },
      "execution_count": null,
      "outputs": []
    },
    {
      "cell_type": "markdown",
      "source": [
        "3個のメッセージのうちで，矢吹が書いたものだと確認できるのはどれか．"
      ],
      "metadata": {
        "id": "25IXIyGrorvr"
      }
    },
    {
      "cell_type": "code",
      "source": [
        "#ここにコードを書いて実行する．"
      ],
      "metadata": {
        "id": "ms5RNNMaBQPa"
      },
      "execution_count": null,
      "outputs": []
    }
  ]
}